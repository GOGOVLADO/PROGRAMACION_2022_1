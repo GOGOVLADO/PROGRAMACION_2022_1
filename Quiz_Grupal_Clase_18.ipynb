{
  "nbformat": 4,
  "nbformat_minor": 0,
  "metadata": {
    "colab": {
      "name": "Quiz Grupal Clase 18",
      "provenance": [],
      "toc_visible": true
    },
    "kernelspec": {
      "name": "python3",
      "display_name": "Python 3"
    },
    "language_info": {
      "name": "python"
    }
  },
  "cells": [
    {
      "cell_type": "markdown",
      "source": [
        "# *QUIZ GRUPAL* #\n",
        "---\n",
        "Usando la función requests,\n",
        "Escribe distintas funciones python que lea el siguiente fichero https://fp.josedomingo.org/lmgs/u05/ej2.json  sobre pruebas de nivel de idiomas y obtenga la siguiente información:\n",
        "1. ¿Cuántas pruebas de idiomas están descritas en el documento?\n",
        "2. Devuelve el título de las pruebas de nivel que van a durar más de dos horas.\n",
        "3. De las pruebas de tipo “No Presencial” devuelve la URL de información.\n",
        "4. Recibe el código de la prueba “ID” y muestra su título y profesores.\n",
        "5. Crear un archivo “.json” con la información de las pruebas, su título y sus profesores. Luego validar el texto en https://jsonlint.com/ \n"
      ],
      "metadata": {
        "id": "H_5oJl8T3svZ"
      }
    },
    {
      "cell_type": "code",
      "source": [
        "import json\n",
        "import requests\n",
        "from pprint import pprint"
      ],
      "metadata": {
        "id": "UsldWAwG4pWp"
      },
      "execution_count": 4,
      "outputs": []
    },
    {
      "cell_type": "code",
      "source": [
        "# La variable lector nos permite leer y guardar la información de la página web\n",
        "lector=requests.get('https://fp.josedomingo.org/lmgs/u05/ej2.json')\n",
        "lector=json.loads(lector.text)\n",
        "pprint(lector)\n",
        "a=lector[0]\n",
        "a=list(a.keys())\n",
        "#print(a)"
      ],
      "metadata": {
        "id": "76HZtfta58W9"
      },
      "execution_count": null,
      "outputs": []
    },
    {
      "cell_type": "code",
      "source": [
        "#Desarrollo problema #1\n",
        "print(f'Existen {len(lector)} pruebas de idiomas en el documento\\n')\n"
      ],
      "metadata": {
        "colab": {
          "base_uri": "https://localhost:8080/"
        },
        "id": "MXIVWi7fH5pl",
        "outputId": "7051ee68-d8bb-4f60-f5b3-6cc9af912287"
      },
      "execution_count": 72,
      "outputs": [
        {
          "output_type": "stream",
          "name": "stdout",
          "text": [
            "Existen 7 pruebas de idiomas en el documento\n",
            "\n"
          ]
        }
      ]
    },
    {
      "cell_type": "code",
      "source": [
        "#Desarrollo problema #2\n",
        "print('Los títulos de las pruebas de nivel con una duración mayor a 2 horas son:')\n",
        "for i in lector:\n",
        "  if i['Horas']>2:\n",
        "    print(i['Titulo'])"
      ],
      "metadata": {
        "colab": {
          "base_uri": "https://localhost:8080/"
        },
        "id": "L1-ZlDAIH5jd",
        "outputId": "15e3de19-d064-4f21-cf6e-72d2e3a61b53"
      },
      "execution_count": 73,
      "outputs": [
        {
          "output_type": "stream",
          "name": "stdout",
          "text": [
            "Los títulos de las pruebas de nivel con una duración mayor a 2 horas son:\n",
            "Inglés - Prueba de nivel - para cursos de Inglés para la Docencia y preparatorio de GESE Trinity\n",
            "Inglés - Prueba de nivel - Para cursos segundo cuatrimestre\n"
          ]
        }
      ]
    },
    {
      "cell_type": "code",
      "source": [
        "#Desarrollo problema #3\n",
        "print('\\nEl URL de la pruebas de tipo No Presencial son:')\n",
        "for i in lector:\n",
        "  if i['TipoFormacion']=='NoPresencial':\n",
        "    print(i['URL'])\n",
        "  elif i['TipoFormacion']=='No Presencial':\n",
        "    print(i['URL'])"
      ],
      "metadata": {
        "colab": {
          "base_uri": "https://localhost:8080/"
        },
        "id": "MSotAMuPH4Hd",
        "outputId": "a347157c-bb7b-466b-8b8b-9513c47e73d7"
      },
      "execution_count": 74,
      "outputs": [
        {
          "output_type": "stream",
          "name": "stdout",
          "text": [
            "\n",
            "El URL de la pruebas de tipo No Presencial son:\n",
            "https://sede.fg.ull.es/es/idioma/detalle/A15050163/aleman-prueba-de-nivel-para-cursos-segundo-cuatrimestre\n",
            "https://sede.fg.ull.es/es/idioma/detalle/A15050167/espa-ol-prueba-de-nivel-para-cursos-segundo-cuatrimestre\n"
          ]
        }
      ]
    },
    {
      "cell_type": "code",
      "source": [
        "#Desarrollo problema #4\n",
        "lista_ID=[]\n",
        "profes=[]\n",
        "for i in lector:\n",
        "  if i['ID'] not in lista_ID:\n",
        "    lista_ID.append(i['ID'])\n",
        "codigo_ID=int(input('\\nIngrese la posición (entre 1 y 7) del código ID del cual desea conocer título y profesorado.\\n'\n",
        "  f'{lista_ID}\\n'))-1\n",
        "for i in lector:\n",
        "  if i['ID']==lista_ID[codigo_ID]:\n",
        "    print('El título del ID a consultar es:\\n'+i['Titulo'])\n",
        "    for j in i['Profesorado']:\n",
        "      profes.append(j['NombreCompleto'])\n",
        "    print('Los profesores del ID a consultar son:')\n",
        "    for k in profes:\n",
        "      print(k)"
      ],
      "metadata": {
        "colab": {
          "base_uri": "https://localhost:8080/"
        },
        "id": "OTqY68k8H4BG",
        "outputId": "1bd3c3ba-4651-4338-b15c-5acecab8babb"
      },
      "execution_count": 75,
      "outputs": [
        {
          "output_type": "stream",
          "name": "stdout",
          "text": [
            "\n",
            "Ingrese la posición (entre 1 y 7) del código ID del cual desea conocer título y profesorado.\n",
            "['A15050163', 'A15050167', 'A15050162', 'A15050182', 'A15050007', 'A15050166', 'A15050164']\n",
            "5\n",
            "El título del ID a consultar es:\n",
            "Inglés - Prueba de nivel - Para cursos segundo cuatrimestre\n",
            "Los profesores del ID a consultar son:\n",
            "María Luisa Capón Mouriz\n",
            "Richard James Murison\n",
            "María Isabel Rodríguez Rodríguez\n",
            "Beatriz Freire Betancor\n",
            "Peggy Gerd Henriksson Carlsson\n",
            "Eva Miriam Amaral Ribeiro Sampaio de Andrade\n",
            "Marta María González Orta\n"
          ]
        }
      ]
    },
    {
      "cell_type": "code",
      "source": [
        "#Desarrollo problema #5\n",
        "data=[]\n",
        "for i in lector:\n",
        "  dictado={}\n",
        "  dictado['Titulo']=i['Titulo']\n",
        "  dictado['Profesores']=[]\n",
        "  for j in i['Profesorado']:\n",
        "    dictado2={}\n",
        "    dictado2['NombreCompleto']=j['NombreCompleto']\n",
        "    dictado['Profesores'].append(dictado2)\n",
        "  data.append(dictado)\n",
        "pprint(data)\n",
        "with open('/content/drive/MyDrive/titulo_y_profes.json','w') as write_file:\n",
        "  json.dump(data,write_file)"
      ],
      "metadata": {
        "colab": {
          "base_uri": "https://localhost:8080/"
        },
        "id": "Ags8f_iKH35n",
        "outputId": "c020ca45-4ad1-41d0-b69a-f15a115863ce"
      },
      "execution_count": 104,
      "outputs": [
        {
          "output_type": "stream",
          "name": "stdout",
          "text": [
            "[{'Profesores': [{'NombreCompleto': 'Reinhard Dlugay'}],\n",
            "  'Titulo': 'Alemán - Prueba de nivel - Para cursos segundo cuatrimestre'},\n",
            " {'Profesores': [{'NombreCompleto': 'Beatriz Hernández Bravo'}],\n",
            "  'Titulo': 'Español - Prueba de nivel - Para cursos segundo cuatrimestre'},\n",
            " {'Profesores': [{'NombreCompleto': 'Marie-Morgane Le Folgoc'}],\n",
            "  'Titulo': 'Francés - Prueba de nivel - Para cursos segundo cuatrimestre'},\n",
            " {'Profesores': [{'NombreCompleto': 'María Luisa Capón Mouriz'}],\n",
            "  'Titulo': 'Inglés - Prueba de nivel - para cursos de Inglés para la Docencia '\n",
            "            'y preparatorio de GESE Trinity'},\n",
            " {'Profesores': [{'NombreCompleto': 'María Luisa Capón Mouriz'},\n",
            "                 {'NombreCompleto': 'Richard James Murison'},\n",
            "                 {'NombreCompleto': 'María Isabel Rodríguez Rodríguez'},\n",
            "                 {'NombreCompleto': 'Beatriz Freire Betancor'},\n",
            "                 {'NombreCompleto': 'Peggy Gerd Henriksson Carlsson'},\n",
            "                 {'NombreCompleto': 'Eva Miriam Amaral Ribeiro Sampaio de '\n",
            "                                    'Andrade'},\n",
            "                 {'NombreCompleto': 'Marta María González Orta'}],\n",
            "  'Titulo': 'Inglés - Prueba de nivel - Para cursos segundo cuatrimestre'},\n",
            " {'Profesores': [{'NombreCompleto': 'Clive Tyrell'}],\n",
            "  'Titulo': 'Inglés - Prueba de nivel - Para preparatorios del '\n",
            "            'FCE/CAE/CPE/IELTS'},\n",
            " {'Profesores': [{'NombreCompleto': 'Nicola Cataldo'}],\n",
            "  'Titulo': 'Italiano - Prueba de nivel - Para cursos segundo cuatrimestre'}]\n"
          ]
        }
      ]
    },
    {
      "cell_type": "markdown",
      "source": [
        "Prueba creación archivo\n",
        "![Pantallaso.PNG](data:image/png;base64,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)"
      ],
      "metadata": {
        "id": "Y6U1Ae8xNIaZ"
      }
    }
  ]
}